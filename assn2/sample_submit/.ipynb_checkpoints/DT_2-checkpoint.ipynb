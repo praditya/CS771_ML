{
 "cells": [
  {
   "cell_type": "code",
   "execution_count": 1,
   "metadata": {},
   "outputs": [],
   "source": [
    "import utils\n",
    "import predict\n",
    "import time as tm\n",
    "import numpy as np\n",
    "\n",
    "# This file is intended to demonstrate how we would evaluate your code\n",
    "# The data loader needs to know how many feature dimensions are there\n",
    "dictSize = 225\n",
    "(X, y) = utils.loadData( \"train\", dictSize = dictSize )"
   ]
  },
  {
   "cell_type": "code",
   "execution_count": 2,
   "metadata": {},
   "outputs": [
    {
     "data": {
      "text/plain": [
       "(<10000x225 sparse matrix of type '<class 'numpy.float64'>'\n",
       " \twith 81176 stored elements in Compressed Sparse Row format>,\n",
       " array([ 1.,  2.,  4., ...,  2., 32.,  3.]))"
      ]
     },
     "execution_count": 2,
     "metadata": {},
     "output_type": "execute_result"
    }
   ],
   "source": [
    "X,y"
   ]
  },
  {
   "cell_type": "code",
   "execution_count": 3,
   "metadata": {},
   "outputs": [
    {
     "data": {
      "text/plain": [
       "<10000x225 sparse matrix of type '<class 'numpy.float64'>'\n",
       "\twith 81176 stored elements in Compressed Sparse Row format>"
      ]
     },
     "execution_count": 3,
     "metadata": {},
     "output_type": "execute_result"
    }
   ],
   "source": [
    "X"
   ]
  },
  {
   "cell_type": "code",
   "execution_count": 4,
   "metadata": {},
   "outputs": [],
   "source": [
    "\n",
    "import utils\n",
    "import predict\n",
    "import time as tm\n",
    "import numpy as np\n",
    "from sklearn.model_selection import cross_val_score\n",
    "from sklearn.tree import DecisionTreeClassifier as DTC\n",
    "import scipy"
   ]
  },
  {
   "cell_type": "code",
   "execution_count": 5,
   "metadata": {},
   "outputs": [
    {
     "name": "stdout",
     "output_type": "stream",
     "text": [
      "[[0. 0. 2. ... 0. 0. 0.]\n",
      " [0. 0. 0. ... 0. 0. 0.]\n",
      " [0. 0. 0. ... 0. 0. 0.]\n",
      " ...\n",
      " [0. 0. 0. ... 0. 0. 0.]\n",
      " [0. 0. 0. ... 0. 0. 0.]\n",
      " [0. 0. 0. ... 0. 0. 0.]]\n",
      "2250000\n"
     ]
    }
   ],
   "source": [
    "dictSize = 225\n",
    "(X, y) = utils.loadData( \"train\", dictSize = dictSize )\n",
    "#print (type(X))\n",
    "np.size(y)\n",
    "np.size(X)\n",
    "X1 = scipy.sparse.csr_matrix.toarray(X)\n",
    "print((X1))\n",
    "print(np.size(X1))"
   ]
  },
  {
   "cell_type": "code",
   "execution_count": 6,
   "metadata": {},
   "outputs": [
    {
     "data": {
      "text/plain": [
       "array([0.7214, 0.723 ])"
      ]
     },
     "execution_count": 6,
     "metadata": {},
     "output_type": "execute_result"
    }
   ],
   "source": [
    "clf = DTC(random_state=0)\n",
    "op = clf.fit(X,y)\n",
    "cross_val_score(clf, X, y, cv=2)"
   ]
  },
  {
   "cell_type": "code",
   "execution_count": 7,
   "metadata": {},
   "outputs": [
    {
     "name": "stdout",
     "output_type": "stream",
     "text": [
      "Total time taken is 0.201076 seconds \n",
      "prec@1: 0.085 prec@3: 0.252 prec@5: 0.418\n",
      "mprec@1: 2.008e-02 mprec@3: 6.166e-02 mprec@5: 1.053e-01\n"
     ]
    }
   ],
   "source": [
    "\n",
    "# Get error class predictions from predict.py and time the thing\n",
    "tic = tm.perf_counter()\n",
    "yPred = predict.findErrorClass( X, 5 )\n",
    "toc = tm.perf_counter()\n",
    "\n",
    "print( \"Total time taken is %.6f seconds \" % (toc - tic) )\n",
    "\n",
    "preck = utils.getPrecAtK( y, yPred, 5 )\n",
    "# The macro precision code takes a bit longer to execute due to the for loop over labels\n",
    "mpreck = utils.getMPrecAtK( y, yPred, 5 )\n",
    "\n",
    "# According to our definitions, both prec@k and mprec@k should go up as k goes up i.e. for your\n",
    "# method, prec@i > prec@j if i > j and mprec@i > mprec@j if i > j. See the assignment description\n",
    "# to convince yourself why this must be the case.\n",
    "\n",
    "print( \"prec@1: %0.3f\" % preck[0], \"prec@3: %0.3f\" % preck[2], \"prec@5: %0.3f\" % preck[4] )\n",
    "# Dont be surprised if mprec is small -- it is hard to do well on rare error classes\n",
    "print( \"mprec@1: %0.3e\" % mpreck[0], \"mprec@3: %0.3e\" % mpreck[2], \"mprec@5: %0.3e\" % mpreck[4] )"
   ]
  },
  {
   "cell_type": "code",
   "execution_count": 8,
   "metadata": {},
   "outputs": [
    {
     "data": {
      "text/plain": [
       "array([[0., 0., 2., ..., 0., 0., 0.],\n",
       "       [0., 0., 0., ..., 0., 0., 0.],\n",
       "       [0., 0., 0., ..., 0., 0., 0.],\n",
       "       ...,\n",
       "       [0., 0., 0., ..., 0., 0., 0.],\n",
       "       [0., 0., 0., ..., 0., 0., 0.],\n",
       "       [0., 0., 0., ..., 0., 0., 0.]])"
      ]
     },
     "execution_count": 8,
     "metadata": {},
     "output_type": "execute_result"
    }
   ],
   "source": [
    "X1"
   ]
  },
  {
   "cell_type": "code",
   "execution_count": 9,
   "metadata": {},
   "outputs": [
    {
     "data": {
      "text/plain": [
       "array([0., 0., 2., 0., 0., 0., 0., 0., 0., 0., 0., 0., 0., 0., 0., 0., 0.,\n",
       "       0., 0., 0., 0., 0., 0., 0., 0., 0., 0., 0., 0., 0., 0., 0., 0., 0.,\n",
       "       0., 0., 0., 0., 0., 0., 0., 0., 0., 0., 0., 0., 0., 0., 1., 1., 0.,\n",
       "       0., 0., 0., 0., 0., 0., 0., 0., 0., 0., 0., 0., 1., 0., 0., 0., 1.,\n",
       "       0., 0., 0., 0., 0., 0., 1., 0., 0., 0., 0., 0., 0., 0., 0., 1., 0.,\n",
       "       0., 0., 0., 0., 0., 0., 0., 0., 0., 0., 0., 0., 0., 0., 0., 0., 0.,\n",
       "       0., 0., 0., 0., 0., 0., 0., 0., 0., 0., 0., 0., 0., 1., 0., 0., 0.,\n",
       "       1., 0., 0., 0., 0., 0., 0., 0., 0., 0., 0., 0., 0., 0., 0., 0., 0.,\n",
       "       0., 0., 0., 0., 0., 0., 0., 0., 0., 0., 0., 0., 0., 0., 0., 0., 0.,\n",
       "       0., 0., 0., 0., 0., 0., 0., 0., 0., 0., 0., 0., 0., 0., 0., 0., 0.,\n",
       "       0., 0., 0., 0., 0., 0., 0., 0., 0., 0., 0., 0., 0., 0., 0., 0., 0.,\n",
       "       0., 0., 0., 0., 0., 0., 0., 0., 0., 0., 0., 0., 1., 0., 0., 0., 0.,\n",
       "       0., 0., 0., 0., 0., 0., 0., 0., 0., 0., 0., 0., 0., 0., 0., 0., 0.,\n",
       "       0., 0., 0., 0.])"
      ]
     },
     "execution_count": 9,
     "metadata": {},
     "output_type": "execute_result"
    }
   ],
   "source": [
    "X1[0]"
   ]
  },
  {
   "cell_type": "code",
   "execution_count": 10,
   "metadata": {},
   "outputs": [
    {
     "data": {
      "text/plain": [
       "array([ 1.,  2.,  4., ...,  2., 32.,  3.])"
      ]
     },
     "execution_count": 10,
     "metadata": {},
     "output_type": "execute_result"
    }
   ],
   "source": [
    "y"
   ]
  },
  {
   "cell_type": "code",
   "execution_count": 11,
   "metadata": {},
   "outputs": [
    {
     "data": {
      "text/plain": [
       "1.0"
      ]
     },
     "execution_count": 11,
     "metadata": {},
     "output_type": "execute_result"
    }
   ],
   "source": [
    "y[0]"
   ]
  },
  {
   "cell_type": "code",
   "execution_count": 12,
   "metadata": {},
   "outputs": [
    {
     "data": {
      "text/plain": [
       "3.0"
      ]
     },
     "execution_count": 12,
     "metadata": {},
     "output_type": "execute_result"
    }
   ],
   "source": [
    "y[4000]"
   ]
  },
  {
   "cell_type": "code",
   "execution_count": 13,
   "metadata": {},
   "outputs": [],
   "source": [
    "X2 = X1[0:5000]"
   ]
  },
  {
   "cell_type": "code",
   "execution_count": 14,
   "metadata": {},
   "outputs": [],
   "source": [
    "y2 = y[0:5000]"
   ]
  },
  {
   "cell_type": "code",
   "execution_count": 15,
   "metadata": {},
   "outputs": [],
   "source": [
    "clf = DTC(random_state=0)\n",
    "op = clf.fit(X2,y2)"
   ]
  },
  {
   "cell_type": "code",
   "execution_count": 16,
   "metadata": {},
   "outputs": [],
   "source": [
    "w = op.predict (X1[5200:5300])"
   ]
  },
  {
   "cell_type": "code",
   "execution_count": 17,
   "metadata": {},
   "outputs": [
    {
     "name": "stdout",
     "output_type": "stream",
     "text": [
      "[  0.   0.   0.   0.   1.  -5. -17.   0.   0.   0.   0.   0.   0.   0.\n",
      "   0.  -6.   0.   0.   0. -19.  -3.   0.   0.   0.   0.   0.   0.   0.\n",
      "   7.  -9.   0.   0.  45.   0.  -1.  -1.   8.   0.   0.   0.   0.   0.\n",
      "   0.   0.   0.  -5.   0.  34.   0.   0.   0.   6.  -3.   0.   0.  -9.\n",
      "   0.   0.   0. -22.   0.   0.   0.   4.   0.   0.   0.   0.   0.   0.\n",
      "   0.   0.   0.   0.   1.   0.   0.   0.  -1.   0.   0.   0.   0.   0.\n",
      "   0. -40.  -1.   0.  -2.  -9.   0.   0.   0.   0.   0. -37.   0.   0.\n",
      "   0.  -2.]\n"
     ]
    }
   ],
   "source": [
    "print(y[5200:5300]-w)"
   ]
  },
  {
   "cell_type": "code",
   "execution_count": 18,
   "metadata": {},
   "outputs": [],
   "source": [
    "from sklearn.ensemble import RandomForestClassifier as RFC\n",
    "\n",
    "from sklearn.datasets import make_classification"
   ]
  },
  {
   "cell_type": "code",
   "execution_count": 19,
   "metadata": {},
   "outputs": [],
   "source": [
    "clf = RFC()"
   ]
  },
  {
   "cell_type": "code",
   "execution_count": 20,
   "metadata": {},
   "outputs": [],
   "source": [
    "op=clf.fit(X2,y2)"
   ]
  },
  {
   "cell_type": "code",
   "execution_count": 21,
   "metadata": {},
   "outputs": [
    {
     "name": "stdout",
     "output_type": "stream",
     "text": [
      "[  0.   0.   0.   0.   1.  -5. -17.   0.   0.   0.   0.   0.   0.   0.\n",
      "   0.  -6.   0.   0.   0. -19.  -3.   0.   0.   0.   0.   0.   0.   0.\n",
      "   7.  -9.   0.   0.  45.   0.  -1.  -1.   8.   0.   0.   0.   0.   0.\n",
      "   0.   0.   0.  -5.   0.  34.   0.   0.   0.   6.  -3.   0.   0.  -9.\n",
      "   0.   0.   0. -22.   0.   0.   0.   4.   0.   0.   0.   0.   0.   0.\n",
      "   0.   0.   0.   0.   1.   0.   0.   0.  -1.   0.   0.   0.   0.   0.\n",
      "   0. -40.  -1.   0.  -2.  -9.   0.   0.   0.   0.   0. -37.   0.   0.\n",
      "   0.  -2.]\n"
     ]
    }
   ],
   "source": [
    "z=op.predict (X1[5200:5300])\n",
    "print(y[5200:5300]-w)"
   ]
  },
  {
   "cell_type": "code",
   "execution_count": 22,
   "metadata": {},
   "outputs": [],
   "source": [
    "opn = op.predict_proba(X1[5200:5300])\n",
    "n = 5\n",
    "top_n_pred = np.argsort(opn,axis=1)[:,-n :]"
   ]
  },
  {
   "cell_type": "code",
   "execution_count": 23,
   "metadata": {},
   "outputs": [],
   "source": [
    "class_labels= clf.classes_"
   ]
  },
  {
   "cell_type": "code",
   "execution_count": 24,
   "metadata": {},
   "outputs": [
    {
     "data": {
      "text/plain": [
       "array([[ 7., 35.,  1., 29.,  2.],\n",
       "       [13.,  1.,  2.,  4., 10.],\n",
       "       [20., 21., 12., 50.,  3.],\n",
       "       [ 3., 16.,  4.,  1.,  2.],\n",
       "       [16.,  4.,  8.,  1.,  2.],\n",
       "       [ 1., 28., 18.,  5., 23.],\n",
       "       [15., 19.,  2.,  4.,  1.],\n",
       "       [20., 21., 12., 50.,  9.],\n",
       "       [ 4., 39.,  9.,  1.,  3.],\n",
       "       [ 1., 12., 22.,  4.,  3.],\n",
       "       [46.,  3.,  1., 10.,  4.],\n",
       "       [20., 21., 12., 50.,  7.],\n",
       "       [21., 13., 50.,  9.,  3.],\n",
       "       [ 4., 10.,  1.,  2.,  8.],\n",
       "       [13., 50.,  8.,  5.,  4.],\n",
       "       [ 1.,  2., 11.,  4.,  3.],\n",
       "       [ 3., 11.,  4.,  2.,  1.],\n",
       "       [15.,  8.,  4.,  2., 23.],\n",
       "       [20., 21., 12.,  1.,  4.],\n",
       "       [ 8., 21., 12.,  2.,  3.],\n",
       "       [25.,  3.,  1.,  2.,  4.],\n",
       "       [21., 12., 18.,  1.,  2.],\n",
       "       [10.,  3.,  4.,  8.,  2.],\n",
       "       [13., 16.,  4.,  2.,  1.],\n",
       "       [21., 13., 50., 26.,  9.],\n",
       "       [ 1.,  3.,  4., 30.,  2.],\n",
       "       [10., 15.,  7.,  3.,  4.],\n",
       "       [19., 20., 21., 12.,  1.],\n",
       "       [ 3.,  2.,  4., 11.,  5.],\n",
       "       [12.,  3.,  2.,  1.,  4.],\n",
       "       [13.,  1.,  2.,  4., 10.],\n",
       "       [13.,  3.,  4.,  1.,  9.],\n",
       "       [50., 47., 13., 29.,  2.],\n",
       "       [ 8.,  4., 17.,  1.,  2.],\n",
       "       [ 9., 20.,  2.,  1.,  4.],\n",
       "       [11., 10.,  4.,  2.,  9.],\n",
       "       [15.,  3.,  2.,  4.,  1.],\n",
       "       [21.,  1.,  4.,  2.,  7.],\n",
       "       [20., 21., 12., 50.,  2.],\n",
       "       [ 1., 47., 13., 21.,  4.],\n",
       "       [11.,  3.,  1.,  4.,  7.],\n",
       "       [ 3., 31.,  1.,  4.,  2.],\n",
       "       [ 7.,  1.,  5., 11.,  8.],\n",
       "       [21., 13.,  3.,  1.,  4.],\n",
       "       [23.,  9.,  4.,  2.,  1.],\n",
       "       [20., 21., 11., 12.,  3.],\n",
       "       [ 3.,  2.,  4.,  1.,  7.],\n",
       "       [ 2., 22.,  5.,  4.,  3.],\n",
       "       [26., 11.,  3.,  2.,  4.],\n",
       "       [ 9., 13., 44.,  4.,  1.],\n",
       "       [20., 21., 12., 50., 16.],\n",
       "       [ 1., 47.,  4., 11.,  5.],\n",
       "       [ 2., 13., 47.,  4.,  1.],\n",
       "       [20., 21., 12., 50.,  3.],\n",
       "       [21.,  4., 13.,  1.,  2.],\n",
       "       [ 2., 10., 25.,  4.,  1.],\n",
       "       [50., 26., 25.,  2.,  4.],\n",
       "       [19.,  8., 43.,  3.,  2.],\n",
       "       [ 1.,  7., 12.,  4.,  3.],\n",
       "       [ 3.,  4., 23., 13.,  1.],\n",
       "       [44., 11.,  2.,  3.,  4.],\n",
       "       [23.,  9., 16.,  4.,  1.],\n",
       "       [19., 20., 21., 12.,  1.],\n",
       "       [11.,  2.,  5.,  4.,  8.],\n",
       "       [13.,  9., 26.,  1.,  4.],\n",
       "       [21., 13., 25., 12.,  3.],\n",
       "       [20., 21., 12., 22.,  3.],\n",
       "       [ 2., 37.,  4.,  1.,  3.],\n",
       "       [ 9., 16.,  2., 10.,  1.],\n",
       "       [26., 25.,  4.,  2.,  1.],\n",
       "       [13.,  4., 12.,  1.,  3.],\n",
       "       [ 9., 12., 13.,  1.,  3.],\n",
       "       [21., 13., 50.,  4.,  7.],\n",
       "       [25.,  1., 12.,  4.,  3.],\n",
       "       [13., 21.,  9.,  2.,  1.],\n",
       "       [42., 50., 22., 12.,  3.],\n",
       "       [ 9., 12.,  1.,  2.,  4.],\n",
       "       [26.,  4.,  2.,  1.,  3.],\n",
       "       [10.,  1.,  3.,  7.,  4.],\n",
       "       [21., 13.,  4.,  1.,  2.],\n",
       "       [29., 13., 30.,  1.,  2.],\n",
       "       [13.,  8.,  3., 11.,  4.],\n",
       "       [20., 21., 12.,  1.,  2.],\n",
       "       [ 7.,  4.,  1.,  3., 26.],\n",
       "       [20., 21., 12.,  4., 24.],\n",
       "       [21., 12.,  4.,  1., 41.],\n",
       "       [20., 21., 12.,  1.,  2.],\n",
       "       [30., 13.,  4., 23.,  2.],\n",
       "       [20., 21., 12.,  1.,  2.],\n",
       "       [ 2., 12.,  1.,  4.,  3.],\n",
       "       [29.,  8.,  2.,  1.,  4.],\n",
       "       [ 1.,  3., 47.,  4., 13.],\n",
       "       [20., 21., 12., 16.,  1.],\n",
       "       [20., 21., 12., 50.,  2.],\n",
       "       [ 9.,  3., 10.,  1.,  2.],\n",
       "       [44., 10.,  3.,  1.,  4.],\n",
       "       [21., 12., 18.,  1.,  2.],\n",
       "       [13., 25.,  1., 10.,  4.],\n",
       "       [35.,  4., 12.,  1.,  3.],\n",
       "       [ 2., 48., 16.,  3.,  1.]])"
      ]
     },
     "execution_count": 24,
     "metadata": {},
     "output_type": "execute_result"
    }
   ],
   "source": [
    "class_labels[top_n_pred]"
   ]
  },
  {
   "cell_type": "code",
   "execution_count": null,
   "metadata": {},
   "outputs": [],
   "source": []
  }
 ],
 "metadata": {
  "kernelspec": {
   "display_name": "Python 3",
   "language": "python",
   "name": "python3"
  },
  "language_info": {
   "codemirror_mode": {
    "name": "ipython",
    "version": 3
   },
   "file_extension": ".py",
   "mimetype": "text/x-python",
   "name": "python",
   "nbconvert_exporter": "python",
   "pygments_lexer": "ipython3",
   "version": "3.5.2"
  }
 },
 "nbformat": 4,
 "nbformat_minor": 2
}
