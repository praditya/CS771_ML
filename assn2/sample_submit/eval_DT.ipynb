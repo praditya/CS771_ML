{
 "cells": [
  {
   "cell_type": "code",
   "execution_count": 76,
   "metadata": {},
   "outputs": [],
   "source": [
    "import utils\n",
    "import predict\n",
    "import time as tm\n",
    "import numpy as np\n",
    "from sklearn.model_selection import cross_val_score\n",
    "from sklearn.tree import DecisionTreeClassifier as DTC\n",
    "from sklearn.ensemble import RandomForestClassifier as RFC\n",
    "from sklearn.datasets import make_classification\n",
    "import scipy\n",
    "from sklearn.model_selection import train_test_split"
   ]
  },
  {
   "cell_type": "code",
   "execution_count": 77,
   "metadata": {},
   "outputs": [],
   "source": [
    "dictSize = 225\n",
    "(X, y) = utils.loadData( \"train\", dictSize = dictSize )"
   ]
  },
  {
   "cell_type": "code",
   "execution_count": 78,
   "metadata": {},
   "outputs": [],
   "source": [
    "X = scipy.sparse.csr_matrix.toarray(X)"
   ]
  },
  {
   "cell_type": "code",
   "execution_count": 79,
   "metadata": {},
   "outputs": [],
   "source": [
    "# Decision Tree \n",
    "X_train, X_test, y_train, y_test = train_test_split(X, y, test_size=0.33, random_state=42)\n",
    "clf_DT = DTC(random_state=0)\n",
    "op_DT = clf_DT.fit(X_train,y_train)"
   ]
  },
  {
   "cell_type": "code",
   "execution_count": 80,
   "metadata": {},
   "outputs": [
    {
     "name": "stdout",
     "output_type": "stream",
     "text": [
      "3300.0\n",
      "[3. 2. 3. ... 9. 4. 3.]\n"
     ]
    }
   ],
   "source": [
    "print (np.size(X_test)/dictSize)\n",
    "print (y_test)"
   ]
  },
  {
   "cell_type": "code",
   "execution_count": 88,
   "metadata": {},
   "outputs": [],
   "source": [
    "op_Pred_DT = op_DT.predict_proba(X_test)\n",
    "# top k predictions\n",
    "k = 5\n",
    "top_n_pred = np.argsort(-op_Pred_DT,axis=1)[:,:k]\n",
    "class_labels_DT= clf_DT.classes_\n",
    "yPred_DT = class_labels_DT[top_n_pred]"
   ]
  },
  {
   "cell_type": "code",
   "execution_count": 89,
   "metadata": {},
   "outputs": [],
   "source": [
    "# Random Forest\n",
    "clf_RFC = RFC()\n",
    "op_RFC = clf_RFC.fit(X_train,y_train)"
   ]
  },
  {
   "cell_type": "code",
   "execution_count": 90,
   "metadata": {},
   "outputs": [],
   "source": [
    "op_Pred_RFC = op_RFC.predict_proba(X_test)\n",
    "# top k predictions\n",
    "top_k_pred_RFC = np.argsort(-op_Pred_RFC,axis=1)[:,:k]\n",
    "class_labels_RFC= clf_RFC.classes_\n",
    "yPred_RFC = class_labels_RFC[top_k_pred_RFC]"
   ]
  },
  {
   "cell_type": "code",
   "execution_count": 91,
   "metadata": {},
   "outputs": [
    {
     "name": "stdout",
     "output_type": "stream",
     "text": [
      "prec@1: 0.740 prec@3: 0.804 prec@5: 0.805\n",
      "mprec@1: 5.811e-03 mprec@3: 4.774e-02 mprec@5: 9.941e-02\n",
      "prec matrix [0.74030303 0.79939394 0.80393939 0.80393939 0.80545455]\n",
      "mprec matrix [0.00581107 0.02643503 0.04773651 0.07787835 0.09940824]\n"
     ]
    }
   ],
   "source": [
    "# eval functions for DT\n",
    "preck = utils.getPrecAtK( y_test, yPred_DT, k )\n",
    "# The macro precision code takes a bit longer to execute due to the for loop over labels\n",
    "mpreck = utils.getMPrecAtK( y_test, yPred_DT, k )\n",
    "\n",
    "# According to our definitions, both prec@k and mprec@k should go up as k goes up i.e. for your\n",
    "# method, prec@i > prec@j if i > j and mprec@i > mprec@j if i > j. See the assignment description\n",
    "# to convince yourself why this must be the case.\n",
    "\n",
    "print( \"prec@1: %0.3f\" % preck[0], \"prec@3: %0.3f\" % preck[2], \"prec@5: %0.3f\" % preck[4] )\n",
    "# Dont be surprised if mprec is small -- it is hard to do well on rare error classes\n",
    "print( \"mprec@1: %0.3e\" % mpreck[0], \"mprec@3: %0.3e\" % mpreck[2], \"mprec@5: %0.3e\" % mpreck[4] )\n",
    "print (\"prec matrix\",preck)\n",
    "print (\"mprec matrix\",mpreck)"
   ]
  },
  {
   "cell_type": "code",
   "execution_count": 92,
   "metadata": {},
   "outputs": [
    {
     "name": "stdout",
     "output_type": "stream",
     "text": [
      "prec@1: 0.772 prec@3: 0.918 prec@5: 0.949\n",
      "mprec@1: 5.695e-03 mprec@3: 4.508e-02 mprec@5: 1.017e-01\n",
      "prec matrix [0.77181818 0.87575758 0.91818182 0.93757576 0.94878788]\n",
      "mprec matrix [0.00569501 0.03093158 0.04507819 0.08312165 0.1017259 ]\n"
     ]
    }
   ],
   "source": [
    "# eval functions for Random Forest\n",
    "preck = utils.getPrecAtK( y_test, yPred_RFC, k )\n",
    "# The macro precision code takes a bit longer to execute due to the for loop over labels\n",
    "mpreck = utils.getMPrecAtK( y_test, yPred_RFC, k )\n",
    "\n",
    "# According to our definitions, both prec@k and mprec@k should go up as k goes up i.e. for your\n",
    "# method, prec@i > prec@j if i > j and mprec@i > mprec@j if i > j. See the assignment description\n",
    "# to convince yourself why this must be the case.\n",
    "\n",
    "print( \"prec@1: %0.3f\" % preck[0], \"prec@3: %0.3f\" % preck[2], \"prec@5: %0.3f\" % preck[4] )\n",
    "# Dont be surprised if mprec is small -- it is hard to do well on rare error classes\n",
    "print( \"mprec@1: %0.3e\" % mpreck[0], \"mprec@3: %0.3e\" % mpreck[2], \"mprec@5: %0.3e\" % mpreck[4] )\n",
    "print (\"prec matrix\",preck)\n",
    "print (\"mprec matrix\",mpreck)"
   ]
  },
  {
   "cell_type": "code",
   "execution_count": 93,
   "metadata": {},
   "outputs": [
    {
     "name": "stdout",
     "output_type": "stream",
     "text": [
      "[3. 2. 3. ... 9. 4. 3.]\n"
     ]
    },
    {
     "data": {
      "text/plain": [
       "array([ 3.,  2.,  3., ...,  9.,  4., 12.])"
      ]
     },
     "execution_count": 93,
     "metadata": {},
     "output_type": "execute_result"
    }
   ],
   "source": [
    "print (y_test)\n",
    "op_DT.predict(X_test)"
   ]
  },
  {
   "cell_type": "code",
   "execution_count": 94,
   "metadata": {},
   "outputs": [
    {
     "name": "stdout",
     "output_type": "stream",
     "text": [
      "[[ 3. 22.  1. 27. 28.]\n",
      " [ 2.  1. 27. 28. 29.]\n",
      " [ 3.  1. 27. 28. 29.]\n",
      " ...\n",
      " [ 9.  1. 27. 28. 29.]\n",
      " [ 4.  1. 27. 28. 29.]\n",
      " [12. 27. 28. 29. 30.]]\n"
     ]
    }
   ],
   "source": [
    "print(yPred_DT)"
   ]
  }
 ],
 "metadata": {
  "kernelspec": {
   "display_name": "Python 3",
   "language": "python",
   "name": "python3"
  },
  "language_info": {
   "codemirror_mode": {
    "name": "ipython",
    "version": 3
   },
   "file_extension": ".py",
   "mimetype": "text/x-python",
   "name": "python",
   "nbconvert_exporter": "python",
   "pygments_lexer": "ipython3",
   "version": "3.5.2"
  }
 },
 "nbformat": 4,
 "nbformat_minor": 2
}
