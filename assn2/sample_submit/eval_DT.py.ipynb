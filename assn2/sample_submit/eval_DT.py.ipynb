{
 "cells": [
  {
   "cell_type": "code",
   "execution_count": 36,
   "metadata": {},
   "outputs": [],
   "source": [
    "import utils\n",
    "import predict\n",
    "import time as tm\n",
    "import numpy as np\n",
    "from sklearn.model_selection import cross_val_score\n",
    "from sklearn.tree import DecisionTreeClassifier as DTC\n",
    "from sklearn.ensemble import RandomForestClassifier as RFC\n",
    "from sklearn.datasets import make_classification\n",
    "import scipy\n",
    "from sklearn.model_selection import train_test_split"
   ]
  },
  {
   "cell_type": "code",
   "execution_count": 37,
   "metadata": {},
   "outputs": [],
   "source": [
    "dictSize = 225\n",
    "(X, y) = utils.loadData( \"train\", dictSize = dictSize )"
   ]
  },
  {
   "cell_type": "code",
   "execution_count": 38,
   "metadata": {},
   "outputs": [],
   "source": [
    "X = scipy.sparse.csr_matrix.toarray(X)"
   ]
  },
  {
   "cell_type": "code",
   "execution_count": 39,
   "metadata": {},
   "outputs": [],
   "source": [
    "# Decision Tree \n",
    "X_train, X_test, y_train, y_test = train_test_split(X, y, test_size=0.33, random_state=42)\n",
    "clf_DT = DTC(random_state=0)\n",
    "op_DT = clf_DT.fit(X_train,y_train)"
   ]
  },
  {
   "cell_type": "code",
   "execution_count": 46,
   "metadata": {},
   "outputs": [
    {
     "name": "stdout",
     "output_type": "stream",
     "text": [
      "3300.0\n",
      "[3. 2. 3. ... 9. 4. 3.]\n"
     ]
    }
   ],
   "source": [
    "print (np.size(X_test)/dictSize)\n",
    "print (y_test)"
   ]
  },
  {
   "cell_type": "code",
   "execution_count": 31,
   "metadata": {},
   "outputs": [],
   "source": [
    "# Random Forest\n",
    "clf_RFC = RFC()\n",
    "op_RFC = clf_RFC.fit(X_train,y_train)"
   ]
  },
  {
   "cell_type": "code",
   "execution_count": 66,
   "metadata": {},
   "outputs": [],
   "source": [
    "op_Pred_DT = op_DT.predict_proba(X_test)\n",
    "# top k predictions\n",
    "k = 20\n",
    "top_n_pred = np.argsort(-op_Pred_DT,axis=1)[:,:k]\n",
    "class_labels= clf_DT.classes_\n",
    "yPred_DT = class_labels[top_n_pred]"
   ]
  },
  {
   "cell_type": "code",
   "execution_count": 67,
   "metadata": {},
   "outputs": [
    {
     "name": "stdout",
     "output_type": "stream",
     "text": [
      "prec@1: 0.740 prec@3: 0.804 prec@5: 0.805\n",
      "mprec@1: 5.811e-03 mprec@3: 4.774e-02 mprec@5: 9.941e-02\n",
      "prec matrix [0.74030303 0.79939394 0.80393939 0.80393939 0.80545455 0.80727273\n",
      " 0.80878788 0.80909091 0.80939394 0.81       0.81333333 0.81636364\n",
      " 0.81727273 0.81848485 0.81878788 0.82090909 0.82121212 0.82363636\n",
      " 0.82424242 0.82666667]\n",
      "mprec matrix [0.00581107 0.02643503 0.04773651 0.07787835 0.09940824 0.12600399\n",
      " 0.13284289 0.15411949 0.15635913 0.17539608 0.18451462 0.18451462\n",
      " 0.20579122 0.21946903 0.25011746 0.26091694 0.2944437  0.3121742\n",
      " 0.34172503 0.35624715]\n"
     ]
    }
   ],
   "source": [
    "# eval functions\n",
    "preck = utils.getPrecAtK( y_test, yPred_DT, k )\n",
    "# The macro precision code takes a bit longer to execute due to the for loop over labels\n",
    "mpreck = utils.getMPrecAtK( y_test, yPred_DT, k )\n",
    "\n",
    "# According to our definitions, both prec@k and mprec@k should go up as k goes up i.e. for your\n",
    "# method, prec@i > prec@j if i > j and mprec@i > mprec@j if i > j. See the assignment description\n",
    "# to convince yourself why this must be the case.\n",
    "\n",
    "print( \"prec@1: %0.3f\" % preck[0], \"prec@3: %0.3f\" % preck[2], \"prec@5: %0.3f\" % preck[4] )\n",
    "# Dont be surprised if mprec is small -- it is hard to do well on rare error classes\n",
    "print( \"mprec@1: %0.3e\" % mpreck[0], \"mprec@3: %0.3e\" % mpreck[2], \"mprec@5: %0.3e\" % mpreck[4] )\n",
    "print (\"prec matrix\",preck)\n",
    "print (\"mprec matrix\",mpreck)"
   ]
  },
  {
   "cell_type": "code",
   "execution_count": 68,
   "metadata": {},
   "outputs": [
    {
     "name": "stdout",
     "output_type": "stream",
     "text": [
      "[3. 2. 3. ... 9. 4. 3.]\n"
     ]
    },
    {
     "data": {
      "text/plain": [
       "array([ 3.,  2.,  3., ...,  9.,  4., 12.])"
      ]
     },
     "execution_count": 68,
     "metadata": {},
     "output_type": "execute_result"
    }
   ],
   "source": [
    "print (y_test)\n",
    "op_DT.predict(X_test)"
   ]
  },
  {
   "cell_type": "code",
   "execution_count": 69,
   "metadata": {},
   "outputs": [
    {
     "name": "stdout",
     "output_type": "stream",
     "text": [
      "[[ 3. 22.  1. ... 44. 45. 46.]\n",
      " [ 2.  1. 27. ... 45. 46. 47.]\n",
      " [ 3.  1. 27. ... 45. 46. 47.]\n",
      " ...\n",
      " [ 9.  1. 27. ... 45. 46. 47.]\n",
      " [ 4.  1. 27. ... 45. 46. 47.]\n",
      " [12. 27. 28. ... 45. 46. 47.]]\n"
     ]
    }
   ],
   "source": [
    "print(yPred_DT)"
   ]
  },
  {
   "cell_type": "code",
   "execution_count": null,
   "metadata": {},
   "outputs": [],
   "source": []
  }
 ],
 "metadata": {
  "kernelspec": {
   "display_name": "Python 3",
   "language": "python",
   "name": "python3"
  },
  "language_info": {
   "codemirror_mode": {
    "name": "ipython",
    "version": 3
   },
   "file_extension": ".py",
   "mimetype": "text/x-python",
   "name": "python",
   "nbconvert_exporter": "python",
   "pygments_lexer": "ipython3",
   "version": "3.5.2"
  }
 },
 "nbformat": 4,
 "nbformat_minor": 2
}
