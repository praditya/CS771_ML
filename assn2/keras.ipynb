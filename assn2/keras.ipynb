{
 "cells": [
  {
   "cell_type": "code",
   "execution_count": 225,
   "metadata": {},
   "outputs": [
    {
     "name": "stdout",
     "output_type": "stream",
     "text": [
      "_________________________________________________________________\n",
      "Layer (type)                 Output Shape              Param #   \n",
      "=================================================================\n",
      "dense_115 (Dense)            (None, 500)               113000    \n",
      "_________________________________________________________________\n",
      "activation_33 (Activation)   (None, 500)               0         \n",
      "_________________________________________________________________\n",
      "dropout_23 (Dropout)         (None, 500)               0         \n",
      "_________________________________________________________________\n",
      "dense_116 (Dense)            (None, 500)               250500    \n",
      "_________________________________________________________________\n",
      "activation_34 (Activation)   (None, 500)               0         \n",
      "_________________________________________________________________\n",
      "dropout_24 (Dropout)         (None, 500)               0         \n",
      "_________________________________________________________________\n",
      "dense_117 (Dense)            (None, 50)                25050     \n",
      "_________________________________________________________________\n",
      "activation_35 (Activation)   (None, 50)                0         \n",
      "=================================================================\n",
      "Total params: 388,550\n",
      "Trainable params: 388,550\n",
      "Non-trainable params: 0\n",
      "_________________________________________________________________\n"
     ]
    }
   ],
   "source": [
    "import utils\n",
    "import predict\n",
    "import time as tm\n",
    "import numpy as np\n",
    "import scipy\n",
    "from keras.models import Sequential, Model\n",
    "from keras.layers import Activation, Dense, Dropout\n",
    "from sklearn.preprocessing import LabelBinarizer\n",
    "from sklearn.model_selection import train_test_split\n",
    "from keras.utils import np_utils\n",
    "\n",
    "k = 5\n",
    "dictSize = 225\n",
    "(X, y) = utils.loadData( \"C:\\\\Users\\\\asus\\\\Documents\\\\GitHub\\\\ml19-20w\\\\assn2\\\\train\", dictSize = dictSize )\n",
    "\n",
    "\n",
    "'''\n",
    "#tic_DT = tm.perf_counter()\n",
    "u, c = np.unique(y, return_counts=True)\n",
    "listOfUniqueValues = zip(u, c)\n",
    "print('Unique values and their first index :')\n",
    "# Iterate over the zip object\n",
    "for elem in listOfUniqueValues:\n",
    "   print(elem[0], ' at Index : ', elem[1])\n",
    "\n",
    "'''\n",
    "\n",
    "# encode class values as integers\n",
    "#encoder = LabelEncoder()\n",
    "#encoder.fit(y)\n",
    "#encoded_Y = encoder.transform(y)\n",
    "# convert integers to dummy variables (i.e. one hot encoded)\n",
    "X_train, X_test, Y_train, Y_test = train_test_split(X, y, test_size=0.33, random_state=42)\n",
    "Y_train = Y_train-1\n",
    "dummy_y = np_utils.to_categorical(Y_train)\n",
    "\n",
    "#dummy_y = y\n",
    "#print(dummy_y[:,0])\n",
    "#print(dummy_y.shape)\n",
    "\n",
    "\n",
    "\n",
    "\n",
    "\n",
    "\n",
    "\n",
    "\n",
    "\n",
    "#let us build a basic model\n",
    "model = Sequential()\n",
    "model.add(Dense(500, input_shape=(225,)))\n",
    "model.add(Activation('relu'))\n",
    "model.add(Dropout(0.3))\n",
    "model.add(Dense(500))\n",
    "model.add(Activation('relu'))\n",
    "model.add(Dropout(0.3))\n",
    "model.add(Dense(50))\n",
    "model.add(Activation('softmax'))\n",
    "model.summary()\n",
    "\n",
    "model.compile(loss='categorical_crossentropy',\n",
    "              optimizer='adam',\n",
    "              metrics=['accuracy'])"
   ]
  },
  {
   "cell_type": "code",
   "execution_count": 234,
   "metadata": {},
   "outputs": [
    {
     "name": "stdout",
     "output_type": "stream",
     "text": [
      "Epoch 1/10\n",
      " - 0s - loss: 0.2722 - acc: 0.9154\n",
      "Epoch 2/10\n",
      " - 0s - loss: 0.2716 - acc: 0.9146\n",
      "Epoch 3/10\n",
      " - 0s - loss: 0.2637 - acc: 0.9154\n",
      "Epoch 4/10\n",
      " - 0s - loss: 0.2665 - acc: 0.9166\n",
      "Epoch 5/10\n",
      " - 0s - loss: 0.2690 - acc: 0.9134\n",
      "Epoch 6/10\n",
      " - 0s - loss: 0.2612 - acc: 0.9166\n",
      "Epoch 7/10\n",
      " - 0s - loss: 0.2584 - acc: 0.9181\n",
      "Epoch 8/10\n",
      " - 0s - loss: 0.2547 - acc: 0.9199\n",
      "Epoch 9/10\n",
      " - 0s - loss: 0.2592 - acc: 0.9152\n",
      "Epoch 10/10\n",
      " - 1s - loss: 0.2534 - acc: 0.9184\n"
     ]
    }
   ],
   "source": [
    "num_epochs = 10\n",
    "batch_size = 1000\n",
    "\n",
    "history = model.fit(X_train, dummy_y,\n",
    "                    batch_size=batch_size,\n",
    "                    epochs=num_epochs,\n",
    "                    verbose=2)"
   ]
  },
  {
   "cell_type": "code",
   "execution_count": 235,
   "metadata": {},
   "outputs": [
    {
     "name": "stdout",
     "output_type": "stream",
     "text": [
      "Test accuracy: 0.8248485073898778\n"
     ]
    }
   ],
   "source": [
    "Y_test = Y_test-1\n",
    "dummy_yt = np_utils.to_categorical(Y_test)\n",
    "score, acc = model.evaluate(X_test, dummy_yt,\n",
    "                       batch_size=batch_size, verbose=2)\n",
    "\n",
    "print('Test accuracy:', acc)"
   ]
  },
  {
   "cell_type": "code",
   "execution_count": 237,
   "metadata": {
    "scrolled": true
   },
   "outputs": [
    {
     "name": "stdout",
     "output_type": "stream",
     "text": [
      "preck [0.82484848 0.91666667 0.94878788 0.96333333 0.97181818]\n",
      "mpreck [0.60624215 0.74775592 0.8427357  0.88178175 0.90245126]\n"
     ]
    }
   ],
   "source": [
    "predictions = model.predict_proba(X_test)\n",
    "top_n_pred = np.argsort(-predictions, axis=1)[:,:k]\n",
    "yPred = top_n_pred + 1 \n",
    "\n",
    "#yPred = class_l[top_n_pred]\n",
    "y_test = Y_test +1\n",
    "\n",
    "\n",
    "#eval\n",
    "preck = utils.getPrecAtK( y_test, yPred, k )\n",
    "mpreck = utils.getMPrecAtK( y_test, yPred, k )\n",
    "print('preck', preck)\n",
    "print('mpreck',mpreck)\n",
    "\n",
    "\n",
    "\n"
   ]
  },
  {
   "cell_type": "code",
   "execution_count": null,
   "metadata": {},
   "outputs": [],
   "source": []
  },
  {
   "cell_type": "code",
   "execution_count": null,
   "metadata": {},
   "outputs": [],
   "source": []
  }
 ],
 "metadata": {
  "kernelspec": {
   "display_name": "Python 3.6 (tensorflow)",
   "language": "python",
   "name": "tensorflow"
  },
  "language_info": {
   "codemirror_mode": {
    "name": "ipython",
    "version": 3
   },
   "file_extension": ".py",
   "mimetype": "text/x-python",
   "name": "python",
   "nbconvert_exporter": "python",
   "pygments_lexer": "ipython3",
   "version": "3.6.10"
  }
 },
 "nbformat": 4,
 "nbformat_minor": 2
}
