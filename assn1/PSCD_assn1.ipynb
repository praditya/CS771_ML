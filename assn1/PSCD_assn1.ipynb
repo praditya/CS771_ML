{
 "cells": [
  {
   "cell_type": "code",
   "execution_count": 1,
   "metadata": {},
   "outputs": [],
   "source": [
    "%load_ext autoreload\n",
    "%autoreload 2"
   ]
  },
  {
   "cell_type": "code",
   "execution_count": 2,
   "metadata": {},
   "outputs": [],
   "source": [
    "import numpy as np\n",
    "from cs771 import genSyntheticData as gsd\n",
    "from cs771 import plotData as pd\n",
    "from cs771 import optLib as opt\n",
    "from matplotlib import pyplot as plt\n",
    "import random"
   ]
  },
  {
   "cell_type": "code",
   "execution_count": null,
   "metadata": {},
   "outputs": [],
   "source": []
  },
  {
   "cell_type": "code",
   "execution_count": 7,
   "metadata": {},
   "outputs": [],
   "source": [
    "def solver( X, y, timeout, spacing ):\n",
    "\t(n, d) = X.shape\n",
    "\tt = 0\n",
    "\ttotTime = 0\n",
    "\t\n",
    "\t# w is the model vector and will get returned once timeout happens\n",
    "\tw = np.zeros( (d,) )\n",
    "\ttic = tm.perf_counter()"
   ]
  },
  {
   "cell_type": "code",
   "execution_count": 9,
   "metadata": {},
   "outputs": [],
   "source": [
    "traindata = np.loadtxt(\"train\")\n",
    "y = traindata[:,0]\n",
    "X = traindata[:,1:]\n"
   ]
  },
  {
   "cell_type": "code",
   "execution_count": 10,
   "metadata": {},
   "outputs": [
    {
     "data": {
      "text/plain": [
       "(800, 1000)"
      ]
     },
     "execution_count": 10,
     "metadata": {},
     "output_type": "execute_result"
    }
   ],
   "source": [
    "X.shape"
   ]
  },
  {
   "cell_type": "code",
   "execution_count": null,
   "metadata": {},
   "outputs": [],
   "source": []
  },
  {
   "cell_type": "code",
   "execution_count": 6,
   "metadata": {},
   "outputs": [
    {
     "ename": "SyntaxError",
     "evalue": "'return' outside function (<ipython-input-6-4c66e4e3ee3e>, line 7)",
     "output_type": "error",
     "traceback": [
      "\u001b[0;36m  File \u001b[0;32m\"<ipython-input-6-4c66e4e3ee3e>\"\u001b[0;36m, line \u001b[0;32m7\u001b[0m\n\u001b[0;31m    return (w, totTime)\u001b[0m\n\u001b[0m    ^\u001b[0m\n\u001b[0;31mSyntaxError\u001b[0m\u001b[0;31m:\u001b[0m 'return' outside function\n"
     ]
    }
   ],
   "source": [
    "while True:\n",
    "\t\tt = t + 1\n",
    "\t\tif t % spacing == 0:\n",
    "\t\t\ttoc = tm.perf_counter()\n",
    "\t\t\ttotTime = totTime + (toc - tic)\n",
    "\t\t\tif totTime > timeout:\n",
    "\t\t\t\treturn (w, totTime)\n",
    "\t\t\telse:\n",
    "\t\t\t\ttic = tm.perf_counter()\n",
    "                \n",
    "return (w, totTime)"
   ]
  },
  {
   "cell_type": "code",
   "execution_count": null,
   "metadata": {},
   "outputs": [],
   "source": []
  }
 ],
 "metadata": {
  "kernelspec": {
   "display_name": "Python 3",
   "language": "python",
   "name": "python3"
  },
  "language_info": {
   "codemirror_mode": {
    "name": "ipython",
    "version": 3
   },
   "file_extension": ".py",
   "mimetype": "text/x-python",
   "name": "python",
   "nbconvert_exporter": "python",
   "pygments_lexer": "ipython3",
   "version": "3.5.2"
  }
 },
 "nbformat": 4,
 "nbformat_minor": 2
}
